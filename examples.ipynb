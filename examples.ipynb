{
 "cells": [
  {
   "cell_type": "code",
   "execution_count": null,
   "metadata": {},
   "outputs": [],
   "source": [
    "from components.examples import Select, Input, TableAction, Button"
   ]
  },
  {
   "cell_type": "code",
   "execution_count": null,
   "metadata": {},
   "outputs": [],
   "source": [
    "comp = Select(options=[\"oranges\", \"apples\", \"bananas\"], \n",
    "              frame={\"url\": \"gjg\"}\n",
    "             )\n",
    "print(comp.render())\n",
    "# comp"
   ]
  },
  {
   "cell_type": "code",
   "execution_count": null,
   "metadata": {},
   "outputs": [],
   "source": [
    "comp = Button(value=\"hello\", color=\"red\")"
   ]
  },
  {
   "cell_type": "code",
   "execution_count": null,
   "metadata": {},
   "outputs": [],
   "source": [
    "# comp.to_html_jj()"
   ]
  },
  {
   "cell_type": "code",
   "execution_count": null,
   "metadata": {},
   "outputs": [],
   "source": [
    "comp = TableAction(action_name=\"Edit\")"
   ]
  },
  {
   "cell_type": "markdown",
   "metadata": {},
   "source": [
    "## Dropdown"
   ]
  },
  {
   "cell_type": "code",
   "execution_count": null,
   "metadata": {},
   "outputs": [],
   "source": [
    "class DropdownTransformer(BaseModel):\n",
    "    data: List[str]\n",
    "\n",
    "    @classmethod\n",
    "    def from_api(cls, url):\n",
    "        pass\n",
    "\n",
    "    def transform(self):\n",
    "        return self.data\n",
    "class CustomTransformer(BaseModel):\n",
    "    data: JobAll\n",
    "\n",
    "    @classmethod\n",
    "    def from_api(cls, url):\n",
    "        pass\n",
    "\n",
    "    def transform(self):\n",
    "        names = []\n",
    "        for job in data:\n",
    "            names.append(job.name)\n",
    "        return names\n",
    "\n",
    "class Dropdown(Partial):\n",
    "    transformer: DropdownTransformer\n",
    "\n",
    "class Transformer(BaseModel):\n",
    "    \n",
    "    def from_api(self):\n",
    "        pass\n",
    "\n",
    "    def apply(self):\n",
    "        pass\n",
    "\n",
    "# 1\n",
    "def to_dropdown_schema(values):\n",
    "    pass\n",
    "\n",
    "data = Transformer.from_api(url).apply(to_dropdown_schema).to_dict()\n",
    "Dropdown.from_dict(data)\n",
    "# in theory this should be abstract class\n",
    "\n",
    "# 2\n",
    "Dropdown.from_api(url)\n"
   ]
  }
 ],
 "metadata": {
  "kernelspec": {
   "display_name": "Python 3",
   "language": "python",
   "name": "python3"
  },
  "language_info": {
   "codemirror_mode": {
    "name": "ipython",
    "version": 3
   },
   "file_extension": ".py",
   "mimetype": "text/x-python",
   "name": "python",
   "nbconvert_exporter": "python",
   "pygments_lexer": "ipython3",
   "version": "3.8.3"
  }
 },
 "nbformat": 4,
 "nbformat_minor": 4
}

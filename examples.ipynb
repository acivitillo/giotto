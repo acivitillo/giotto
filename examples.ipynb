{
 "cells": [
  {
   "cell_type": "code",
   "execution_count": 1,
   "metadata": {},
   "outputs": [],
   "source": [
    "from examples import Select, Input, TableAction"
   ]
  },
  {
   "cell_type": "code",
   "execution_count": 6,
   "metadata": {},
   "outputs": [],
   "source": [
    "comp = Select(options=[\"oranges\", \"apples\", \"bananas\"])"
   ]
  },
  {
   "cell_type": "code",
   "execution_count": 8,
   "metadata": {},
   "outputs": [],
   "source": [
    "comp = Input()"
   ]
  },
  {
   "cell_type": "code",
   "execution_count": 4,
   "metadata": {},
   "outputs": [],
   "source": [
    "comp = TableAction(action_name=\"Edit\")"
   ]
  },
  {
   "cell_type": "code",
   "execution_count": 9,
   "metadata": {},
   "outputs": [
    {
     "name": "stdout",
     "output_type": "stream",
     "text": [
      "<div class=\"relative inline-flex\">\n",
      "    <input type=\"search\"\n",
      "        class=\"border border-gray-300 text-gray-600 h-10 pl-5 pr-10 bg-white hover:border-gray-400 focus:outline-none appearance-none\"\n",
      "        placeholder=\"Search by name...\">\n",
      "    <svg class=\"w-4 h-5 absolute top-0 right-0 m-3 pointer-events-none\" xmlns=\"http://www.w3.org/2000/svg\" fill=\"none\"\n",
      "        viewBox=\"0 0 24 24\" stroke=\"currentColor\">\n",
      "        <path strokeLinecap=\"round\" strokeLinejoin=\"round\" strokeWidth={2}\n",
      "            d=\"M21 21l-6-6m2-5a7 7 0 11-14 0 7 7 0 0114 0z\" />\n",
      "    </svg>\n",
      "</div>\n"
     ]
    },
    {
     "data": {
      "text/plain": [
       "Input()"
      ]
     },
     "execution_count": 9,
     "metadata": {},
     "output_type": "execute_result"
    }
   ],
   "source": [
    "# html = comp.to_tag().render()\n",
    "html = comp.to_html_jj()\n",
    "print(html)\n",
    "comp"
   ]
  },
  {
   "cell_type": "code",
   "execution_count": 3,
   "metadata": {},
   "outputs": [
    {
     "name": "stdout",
     "output_type": "stream",
     "text": [
      "<div class=\"relative inline-flex\">\n",
      "  <input class=\"border border-gray-300 text-gray-600 h-10 pl-5 pr-10 bg-white hover:border-gray-400 focus:outline-none appearance-none\" placeholder=\"Search by name...\" type=\"search\">\n",
      "  <svg class=\"w-4 h-5 absolute top-0 right-0 m-3 pointer-events-none\" fill=\"none\" stroke=\"currentColor\" viewBox=\"0 0 24 24\" xmlns=\"http://www.w3.org/2000/svg\">\n",
      "    <path d=\"M21 21l-6-6m2-5a7 7 0 11-14 0 7 7 0 0114 0z\" strokeLinecap=\"round\" strokeLinejoin=\"round\" strokeWidth=\"{2}\"></path>\n",
      "  </svg>\n",
      "</div>\n"
     ]
    }
   ],
   "source": [
    "html = comp.to_tag().render()\n",
    "print(html)"
   ]
  },
  {
   "cell_type": "code",
   "execution_count": 4,
   "metadata": {},
   "outputs": [
    {
     "data": {
      "text/plain": [
       "{'is_frame': False, 'options': ['oranges', 'apples', 'bananas']}"
      ]
     },
     "execution_count": 4,
     "metadata": {},
     "output_type": "execute_result"
    }
   ],
   "source": [
    "Select(options=[\"oranges\", \"apples\", \"bananas\"]).dict()"
   ]
  }
 ],
 "metadata": {
  "kernelspec": {
   "display_name": "Python 3",
   "language": "python",
   "name": "python3"
  },
  "language_info": {
   "codemirror_mode": {
    "name": "ipython",
    "version": 3
   },
   "file_extension": ".py",
   "mimetype": "text/x-python",
   "name": "python",
   "nbconvert_exporter": "python",
   "pygments_lexer": "ipython3",
   "version": "3.8.3"
  }
 },
 "nbformat": 4,
 "nbformat_minor": 4
}
